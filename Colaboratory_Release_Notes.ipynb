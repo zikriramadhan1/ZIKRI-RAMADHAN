{
  "cells": [
    {
      "cell_type": "markdown",
      "metadata": {
        "id": "view-in-github",
        "colab_type": "text"
      },
      "source": [
        "<a href=\"https://colab.research.google.com/github/zikriramadhan1/ZIKRI-RAMADHAN/blob/main/Colaboratory_Release_Notes.ipynb\" target=\"_parent\"><img src=\"https://colab.research.google.com/assets/colab-badge.svg\" alt=\"Open In Colab\"/></a>"
      ]
    },
    {
      "cell_type": "code",
      "source": [
        "nama = input(\"masukkan nama anda: \")\n",
        "print(f\"Selamat belajar Python, {nama}!\")"
      ],
      "metadata": {
        "colab": {
          "base_uri": "https://localhost:8080/"
        },
        "id": "NlOEFgpPL8qc",
        "outputId": "0f665c1b-dbcd-43f4-b18f-ff3272812b93"
      },
      "id": "NlOEFgpPL8qc",
      "execution_count": 10,
      "outputs": [
        {
          "output_type": "stream",
          "name": "stdout",
          "text": [
            "masukkan nama anda: zikri ramadhan\n",
            "Selamat belajar Python, zikri ramadhan!\n"
          ]
        }
      ]
    },
    {
      "cell_type": "code",
      "source": [
        "# menghitung luas persegi panjang\n",
        "panjang = float(input(\"Masukkan panjang persegi panjang: \"))\n",
        "lebar = float(input(\"Masukkan lebar persegi panjang: \"))\n",
        "luas = panjang * lebar\n",
        "print(f\"Luas persegi panjang adalah: {luas}\")"
      ],
      "metadata": {
        "colab": {
          "base_uri": "https://localhost:8080/"
        },
        "id": "ve6VgMj2Mi5G",
        "outputId": "1870bc30-ad53-4614-82b3-f789c007c43f"
      },
      "id": "ve6VgMj2Mi5G",
      "execution_count": 25,
      "outputs": [
        {
          "output_type": "stream",
          "name": "stdout",
          "text": [
            "Masukkan panjang persegi panjang: 5\n",
            "Masukkan lebar persegi panjang: 3\n",
            "Luas persegi panjang adalah: 15.0\n"
          ]
        }
      ]
    },
    {
      "cell_type": "code",
      "source": [
        "#menentukan bilangan ganjil atau genap\n",
        "bilangan = int(input(\"masukan sebuah bilangan bulat: \"))\n",
        "if bilangan %2 == 0:\n",
        "  print(f\"(bilangan) adalah bilangan genap.\")\n",
        "else:\n",
        "  print(f\"(bilangan) adalah bilangan ganjil\")"
      ],
      "metadata": {
        "colab": {
          "base_uri": "https://localhost:8080/"
        },
        "id": "9xzOk8XMQLYa",
        "outputId": "fec217d8-57da-4618-af0d-103fd0264e21"
      },
      "id": "9xzOk8XMQLYa",
      "execution_count": 23,
      "outputs": [
        {
          "output_type": "stream",
          "name": "stdout",
          "text": [
            "masukan sebuah bilangan bulat: 7\n",
            "(bilangan) adalah bilangan ganjil\n"
          ]
        }
      ]
    },
    {
      "cell_type": "code",
      "source": [
        "for i in range(1, 21):\n",
        "    print(i, end=\" \")"
      ],
      "metadata": {
        "colab": {
          "base_uri": "https://localhost:8080/"
        },
        "id": "wpld0g0wUna5",
        "outputId": "060d2731-0e9d-4561-d6ce-1bd12297a261"
      },
      "id": "wpld0g0wUna5",
      "execution_count": 43,
      "outputs": [
        {
          "output_type": "stream",
          "name": "stdout",
          "text": [
            "1 2 3 4 5 6 7 8 9 10 11 12 13 14 15 16 17 18 19 20 "
          ]
        }
      ]
    },
    {
      "cell_type": "code",
      "source": [
        "a = int(input(\"Masukkan bilangan pertama : \"))\n",
        "b = int(input(\"Masukkan bilangan kedua : \"))\n",
        "jumlah = a + b\n",
        "print(\"Jumlah dari\", a, \"dan\", b, \"adalah\", jumlah)"
      ],
      "metadata": {
        "colab": {
          "base_uri": "https://localhost:8080/"
        },
        "id": "gK0TuYJaVeOQ",
        "outputId": "23f1b428-837d-41ba-e8a7-80425540d945"
      },
      "id": "gK0TuYJaVeOQ",
      "execution_count": 51,
      "outputs": [
        {
          "output_type": "stream",
          "name": "stdout",
          "text": [
            "Masukkan bilangan pertama : 3\n",
            "Masukkan bilangan kedua : 7\n",
            "Jumlah dari 3 dan 7 adalah 10\n"
          ]
        }
      ]
    },
    {
      "cell_type": "code",
      "source": [
        "a = int(input(\"Masukkan bilangan pertama : \"))\n",
        "b = int(input(\"Masukkan bilangan kedua : \"))\n",
        "jumlah = 0\n",
        "for i in range(a, b + 1):\n",
        "    jumlah = jumlah + i\n",
        "\n",
        "print(f\"(jumlah)\")\n"
      ],
      "metadata": {
        "colab": {
          "base_uri": "https://localhost:8080/"
        },
        "id": "0HToRVyTXA_g",
        "outputId": "3cc4bb21-71df-489d-b5e6-8d2ce74bff4e"
      },
      "id": "0HToRVyTXA_g",
      "execution_count": 4,
      "outputs": [
        {
          "output_type": "stream",
          "name": "stdout",
          "text": [
            "Masukkan bilangan pertama : 3\n",
            "Masukkan bilangan kedua : 7\n",
            "(jumlah)\n"
          ]
        }
      ]
    },
    {
      "cell_type": "code",
      "source": [
        "a = int(input(\"Masukkan bilangan bulat pertama (a): \"))\n",
        "b = int(input(\"Masukkan bilangan bulat kedua (b): \"))1\n",
        "print(\"Bilangan genap dalam rentang\", a, \"hingga\", b, \"adalah:\")\n",
        "for variabel in range(a, b + 1):\n",
        "    if (variabel) % 2 == 0:\n",
        "        print(variabel)"
      ],
      "metadata": {
        "colab": {
          "base_uri": "https://localhost:8080/"
        },
        "id": "0W0Zy4Ccb88-",
        "outputId": "f80f3b94-4c34-47fd-e3e5-e7f6a5b2aa0a"
      },
      "id": "0W0Zy4Ccb88-",
      "execution_count": 28,
      "outputs": [
        {
          "output_type": "stream",
          "name": "stdout",
          "text": [
            "Masukkan bilangan bulat pertama (a): 3\n",
            "Masukkan bilangan bulat kedua (b): 10\n",
            "Bilangan genap dalam rentang 3 hingga 10 adalah:\n",
            "4\n",
            "6\n",
            "8\n",
            "10\n"
          ]
        }
      ]
    },
    {
      "cell_type": "code",
      "source": [
        "arr = [5, 2, 8, 1]\n",
        "result = ()\n",
        "for i in range(len(arr)-1, -1, -1):\n",
        "    result += (arr[i],)\n",
        "print(result)"
      ],
      "metadata": {
        "colab": {
          "base_uri": "https://localhost:8080/"
        },
        "id": "0-vSokC5glRs",
        "outputId": "c1b3db13-2e84-406f-c0db-356fb1e60ca2"
      },
      "id": "0-vSokC5glRs",
      "execution_count": 32,
      "outputs": [
        {
          "output_type": "stream",
          "name": "stdout",
          "text": [
            "(1, 8, 2, 5)\n"
          ]
        }
      ]
    },
    {
      "cell_type": "code",
      "source": [
        "arr = [5, 2, 8, 1]\n",
        "result = ()\n",
        "for i in range(len(arr)-1, -1, -1):\n",
        "    result += (arr[i],)\n",
        "print(result)"
      ],
      "metadata": {
        "id": "G_8stsHCg4I0"
      },
      "id": "G_8stsHCg4I0",
      "execution_count": null,
      "outputs": []
    },
    {
      "cell_type": "code",
      "source": [
        "#Fungsi untuk memeriksa apakah bilangan adalah bilangan prima\n",
        "def is_prime(n):\n",
        "    if n <= 1:\n",
        "        return False\n",
        "    for i in range(2, int(n ** 0.5) + 1):\n",
        "        if n % i == 0:\n",
        "            return False\n",
        "    return True\n",
        "bilangan = int(input(\"Masukkan sebuah bilangan bulat: \"))\n",
        "if is_prime(bilangan):\n",
        "    print(f\"{bilangan} adalah bilangan prima.\")\n",
        "else:\n",
        "    print(f\"{bilangan} bukan bilangan prima.\")"
      ],
      "metadata": {
        "colab": {
          "base_uri": "https://localhost:8080/"
        },
        "id": "-PfEiPhxjPYS",
        "outputId": "73352df7-adcc-4831-9f83-a47f0e3466cd"
      },
      "id": "-PfEiPhxjPYS",
      "execution_count": 34,
      "outputs": [
        {
          "output_type": "stream",
          "name": "stdout",
          "text": [
            "Masukkan sebuah bilangan bulat: 13\n",
            "13 adalah bilangan prima.\n"
          ]
        }
      ]
    }
  ],
  "metadata": {
    "colab": {
      "name": "Colaboratory Release Notes",
      "provenance": [],
      "include_colab_link": true
    },
    "language_info": {
      "name": "python"
    },
    "kernelspec": {
      "name": "python3",
      "display_name": "Python 3"
    }
  },
  "nbformat": 4,
  "nbformat_minor": 5
}