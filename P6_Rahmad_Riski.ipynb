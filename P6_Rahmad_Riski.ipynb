{
  "nbformat": 4,
  "nbformat_minor": 0,
  "metadata": {
    "colab": {
      "provenance": [],
      "authorship_tag": "ABX9TyMZimaipWIak7CEKU7yOVyb",
      "include_colab_link": true
    },
    "kernelspec": {
      "name": "python3",
      "display_name": "Python 3"
    },
    "language_info": {
      "name": "python"
    }
  },
  "cells": [
    {
      "cell_type": "markdown",
      "metadata": {
        "id": "view-in-github",
        "colab_type": "text"
      },
      "source": [
        "<a href=\"https://colab.research.google.com/github/zikriramadhan1/ZIKRI-RAMADHAN/blob/main/P6_Rahmad_Riski.ipynb\" target=\"_parent\"><img src=\"https://colab.research.google.com/assets/colab-badge.svg\" alt=\"Open In Colab\"/></a>"
      ]
    },
    {
      "cell_type": "code",
      "execution_count": 1,
      "metadata": {
        "colab": {
          "base_uri": "https://localhost:8080/"
        },
        "id": "nw5MfSD2goj7",
        "outputId": "3544896d-bbcc-421b-b100-a8f96b4bc452"
      },
      "outputs": [
        {
          "output_type": "stream",
          "name": "stdout",
          "text": [
            "Sembilan Lebih Besar Dari Angka Tujuh\n"
          ]
        }
      ],
      "source": [
        "#Kondisi if adalah kondisi yang akan dieksekusi oleh program jika bernilai benar atau TRUE\n",
        "nilai = 9\n",
        "#jika kondisi benar/TRUE maka program akan mengeksekusi perintah dibawahnya\n",
        "if(nilai > 7):\n",
        " print(\"Sembilan Lebih Besar Dari Angka Tujuh\") # Kondisi Benar, Dieksekusi\n",
        "#jika kondisi salah/FALSE maka program tidak akan mengeksekusi perintah dibawahnya\n",
        "if(nilai > 10):\n",
        " print(\"Sembilan Lebih Besar Dari Angka Sepuluh\") # Kondisi Salah, Maka tidak tereksekusi"
      ]
    },
    {
      "cell_type": "code",
      "source": [
        "grade = float(input(\"Masukkan Nilai Anda: \"))\n",
        "if grade == 100:\n",
        " print(\"perfect\")\n",
        "if grade == 90:\n",
        " print(\"ok\")\n",
        " print(\"keep working hard!\")\n",
        ""
      ],
      "metadata": {
        "colab": {
          "base_uri": "https://localhost:8080/"
        },
        "id": "V_xj-Av4hB-F",
        "outputId": "a1f6d809-cfb7-4370-d22c-624667069fce"
      },
      "execution_count": 2,
      "outputs": [
        {
          "output_type": "stream",
          "name": "stdout",
          "text": [
            "Masukkan Nilai Anda: 100\n",
            "perfect\n"
          ]
        }
      ]
    },
    {
      "cell_type": "code",
      "source": [
        "grade = float(input(\"Masukkan Nilai Anda: \"))\n",
        "if grade == 100:\n",
        " print(\"perfect\")\n",
        "if grade == 90:\n",
        " print(\"ok\")\n",
        " print(\"keep working hard!\")"
      ],
      "metadata": {
        "colab": {
          "base_uri": "https://localhost:8080/"
        },
        "id": "1WTgBRJXhFav",
        "outputId": "9abe263f-8a7d-4cd2-e583-20ca5d66c6f3"
      },
      "execution_count": 3,
      "outputs": [
        {
          "output_type": "stream",
          "name": "stdout",
          "text": [
            "Masukkan Nilai Anda: 90\n",
            "ok\n",
            "keep working hard!\n"
          ]
        }
      ]
    },
    {
      "cell_type": "code",
      "source": [
        "# Kondisi if else adalah jika kondisi bernilai TRUE maka akan dieksekusi pada if,\n",
        "# tetapi jika bernilai FALSE maka akan dieksekusi kode pada else\n",
        "nilai = 8\n",
        "# Jika pernyataan pada if bernilai TRUE maka if akan dieksekusi,\n",
        "# tetapi jika FALSE kode pada else yang akan dieksekusi.\n",
        "if(nilai > 7):\n",
        " print(\"Selamat Anda Lulus\")\n",
        "else:\n",
        " print(\"Maaf Anda Tidak Lulus\")"
      ],
      "metadata": {
        "colab": {
          "base_uri": "https://localhost:8080/"
        },
        "id": "h_39-DL6h4wH",
        "outputId": "06823c1e-9a01-42ae-aefb-9e360cc50ccf"
      },
      "execution_count": 5,
      "outputs": [
        {
          "output_type": "stream",
          "name": "stdout",
          "text": [
            "Selamat Anda Lulus\n"
          ]
        }
      ]
    },
    {
      "cell_type": "code",
      "source": [
        "str_input = input('Enter your grade: ')\n",
        "grade = int(str_input)\n",
        "if grade == 100:\n",
        " print(\"perfect\")\n",
        "else:\n",
        " print(\"keep it up\")\n",
        ""
      ],
      "metadata": {
        "colab": {
          "base_uri": "https://localhost:8080/"
        },
        "id": "4N58vGQ2h_eu",
        "outputId": "fa0a9041-8f6b-440c-cec8-12850f0099a8"
      },
      "execution_count": 6,
      "outputs": [
        {
          "output_type": "stream",
          "name": "stdout",
          "text": [
            "Enter your grade: 95\n",
            "keep it up\n"
          ]
        }
      ]
    },
    {
      "cell_type": "code",
      "source": [
        "Lapar = input(\"Apakah riski lapar? \")\n",
        "if(\"lapar == ya\"):\n",
        " print(\"riski makan\")\n",
        "else:\n",
        " print(\"riski tidak makan\")"
      ],
      "metadata": {
        "colab": {
          "base_uri": "https://localhost:8080/"
        },
        "id": "3MdER56EiINk",
        "outputId": "8d3cd0a7-f159-4507-a9a4-1541d56e0778"
      },
      "execution_count": 8,
      "outputs": [
        {
          "output_type": "stream",
          "name": "stdout",
          "text": [
            "Apakah riski lapar? iya\n",
            "riski makan\n"
          ]
        }
      ]
    },
    {
      "cell_type": "code",
      "source": [
        "#Contoh penggunaan kondisi elif\n",
        "hari_ini = input(\"Masukkan hari(gunakan huruf kecil): \")\n",
        "if(hari_ini == \"senin\"):\n",
        " print(\"Saya akan kuliah\")\n",
        "elif(hari_ini == \"selasa\"):\n",
        " print(\"Saya akan kuliah\")\n",
        "elif(hari_ini == \"rabu\"):\n",
        " print(\"Saya akan kuliah\")\n",
        "elif(hari_ini == \"kamis\"):\n",
        " print(\"Saya akan kuliah\")\n",
        "elif(hari_ini == \"jumat\"):\n",
        " print(\"Saya akan kuliah\")\n",
        "elif(hari_ini == \"sabtu\"):\n",
        " print(\"Saya akan kuliah\")\n",
        "elif(hari_ini == \"minggu\"):\n",
        " print(\"Saya akan libur\")"
      ],
      "metadata": {
        "colab": {
          "base_uri": "https://localhost:8080/"
        },
        "id": "SVGFXbSliXnJ",
        "outputId": "ac64489d-f225-4409-fd91-f96f2ec4fac2"
      },
      "execution_count": 9,
      "outputs": [
        {
          "output_type": "stream",
          "name": "stdout",
          "text": [
            "Masukkan hari(gunakan huruf kecil): jumat\n",
            "Saya akan kuliah\n"
          ]
        }
      ]
    },
    {
      "cell_type": "code",
      "source": [
        "str_input = input('Enter your grade: ')\n",
        "grade = int(str_input)\n",
        "if grade == 100:\n",
        " print(\"perfect\")\n",
        "elif grade >= 85:\n",
        " print(\"awesome\")\n",
        "elif grade >= 65:\n",
        " print(\"passed the exam\")\n",
        "else:\n",
        " print(\"below the passing grade\")"
      ],
      "metadata": {
        "colab": {
          "base_uri": "https://localhost:8080/"
        },
        "id": "4xAy3v3Niin2",
        "outputId": "5c89c40c-f7a8-43a4-c06d-9d60708dfb2e"
      },
      "execution_count": 10,
      "outputs": [
        {
          "output_type": "stream",
          "name": "stdout",
          "text": [
            "Enter your grade: 100\n",
            "perfect\n"
          ]
        }
      ]
    },
    {
      "cell_type": "code",
      "source": [
        "grade = int(input('Enter your current grade: '))\n",
        "prev_grade = int(input('Enter your previous grade: '))\n",
        "if grade >= 90 and prev_grade >= 65:\n",
        " print(\"awesome\")\n",
        "if grade >= 90 and prev_grade < 65:\n",
        " print(\"awesome. you definitely working hard, right?\")\n",
        "elif grade >= 65:\n",
        " print(\"passed the exam\")\n",
        "else:\n",
        " print(\"below the passing grade\")\n",
        "if (grade >= 65 and not prev_grade >= 65) or (not grade >= 65 and\n",
        "prev_grade >= 65):\n",
        " print(\"at least you passed one exam. good job!\")"
      ],
      "metadata": {
        "colab": {
          "base_uri": "https://localhost:8080/"
        },
        "id": "PuPOopbeinZu",
        "outputId": "811735e8-6c87-4a15-e68a-4dc7c3a6af81"
      },
      "execution_count": 11,
      "outputs": [
        {
          "output_type": "stream",
          "name": "stdout",
          "text": [
            "Enter your current grade: 95\n",
            "Enter your previous grade: 100\n",
            "awesome\n",
            "passed the exam\n"
          ]
        }
      ]
    },
    {
      "cell_type": "code",
      "source": [
        "#soal 1\n",
        "bilangan = int(input(\"masukkan sebuah bilangan :\"))\n",
        "if bilangan % 3 == 0 :\n",
        "  print(f\"bilangan habis dibagi tiga\")\n",
        "else:\n",
        "  print(f\"bilangan tidak habis dibagi tiga\")"
      ],
      "metadata": {
        "colab": {
          "base_uri": "https://localhost:8080/"
        },
        "id": "aseYnwAyjInp",
        "outputId": "1ef818a2-871d-429f-861a-9ad892fb05d1"
      },
      "execution_count": 12,
      "outputs": [
        {
          "output_type": "stream",
          "name": "stdout",
          "text": [
            "masukkan sebuah bilangan :9\n",
            "bilangan habis dibagi tiga\n"
          ]
        }
      ]
    },
    {
      "cell_type": "code",
      "source": [
        "#SOAL 2\n",
        "nama = input(\"masukan nama: \")\n",
        "kelamin = input(\"masukan jenis kelamin(pria/wanita): \")\n",
        "\n",
        "if kelamin == \"pria\":\n",
        "  print(\"Halo bro\", nama)\n",
        "elif kelamin == \"wanita\":\n",
        "  print(\"halo sis\", nama)\n",
        "else:\n",
        "  print(\"tidak terdeteksi\")"
      ],
      "metadata": {
        "colab": {
          "base_uri": "https://localhost:8080/"
        },
        "id": "aWBV4kU1jd_A",
        "outputId": "c72aacdc-4944-474d-cc4e-713af7a2ee24"
      },
      "execution_count": 14,
      "outputs": [
        {
          "output_type": "stream",
          "name": "stdout",
          "text": [
            "masukan nama: rahmad riski\n",
            "masukan jenis kelamin(pria/wanita): pria\n",
            "Halo bro rahmad riski\n"
          ]
        }
      ]
    },
    {
      "cell_type": "code",
      "source": [
        "#soal 3\n",
        "usia = int(input(\"masukan usia\" ))\n",
        "\n",
        "if (usia <13):\n",
        "  print(\"anak-anak\")\n",
        "elif (usia >= 12 and usia <= 18):\n",
        "  print(\"remaja\")\n",
        "else:\n",
        "  print(\"dewasa\")\n"
      ],
      "metadata": {
        "colab": {
          "base_uri": "https://localhost:8080/"
        },
        "id": "LAM9D0eXjsL8",
        "outputId": "f108f717-2282-42dd-d1be-284bb440e12e"
      },
      "execution_count": 15,
      "outputs": [
        {
          "output_type": "stream",
          "name": "stdout",
          "text": [
            "masukan usia22\n",
            "dewasa\n"
          ]
        }
      ]
    }
  ]
}