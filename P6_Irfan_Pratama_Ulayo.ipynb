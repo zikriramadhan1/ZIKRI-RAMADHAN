{
  "nbformat": 4,
  "nbformat_minor": 0,
  "metadata": {
    "colab": {
      "provenance": [],
      "authorship_tag": "ABX9TyMQPBXd78/AQNmLuoxO6Ikv",
      "include_colab_link": true
    },
    "kernelspec": {
      "name": "python3",
      "display_name": "Python 3"
    },
    "language_info": {
      "name": "python"
    }
  },
  "cells": [
    {
      "cell_type": "markdown",
      "metadata": {
        "id": "view-in-github",
        "colab_type": "text"
      },
      "source": [
        "<a href=\"https://colab.research.google.com/github/zikriramadhan1/ZIKRI-RAMADHAN/blob/main/P6_Irfan_Pratama_Ulayo.ipynb\" target=\"_parent\"><img src=\"https://colab.research.google.com/assets/colab-badge.svg\" alt=\"Open In Colab\"/></a>"
      ]
    },
    {
      "cell_type": "code",
      "execution_count": 1,
      "metadata": {
        "colab": {
          "base_uri": "https://localhost:8080/"
        },
        "id": "xHE4hPEFN4ec",
        "outputId": "342d4c4c-b3cb-4d36-9682-f6c15812235a"
      },
      "outputs": [
        {
          "output_type": "stream",
          "name": "stdout",
          "text": [
            "Sembilan Lebih Besar Dari Angka Tujuh\n"
          ]
        }
      ],
      "source": [
        "#Kondisi if adalah kondisi yang akan dieksekusi oleh program jika bernilai benar atau TRUE\n",
        "nilai = 9\n",
        "#jika kondisi benar/TRUE maka program akan mengeksekusi perintah dibawahnya\n",
        "if(nilai > 7):\n",
        " print(\"Sembilan Lebih Besar Dari Angka Tujuh\") # Kondisi Benar, Dieksekusi\n",
        "#jika kondisi salah/FALSE maka program tidak akan mengeksekusi perintah dibawahnya\n",
        "if(nilai > 10):\n",
        " print(\"Sembilan Lebih Besar Dari Angka Sepuluh\") # Kondisi Salah, Maka tidak tereksekusi"
      ]
    },
    {
      "cell_type": "code",
      "source": [
        "grade = float(input(\"Masukkan Nilai Anda: \"))\n",
        "if grade == 100:\n",
        " print(\"perfect\")\n",
        "if grade == 90:\n",
        " print(\"ok\")\n",
        "print(\"keep working hard!\")"
      ],
      "metadata": {
        "colab": {
          "base_uri": "https://localhost:8080/"
        },
        "id": "wavfvYecO6Xd",
        "outputId": "0d3fef83-ca4b-4f26-b71c-9b50c5a324ff"
      },
      "execution_count": 3,
      "outputs": [
        {
          "output_type": "stream",
          "name": "stdout",
          "text": [
            "Masukkan Nilai Anda: 100\n",
            "perfect\n",
            "keep working hard!\n"
          ]
        }
      ]
    },
    {
      "cell_type": "code",
      "source": [
        "grade = float(input(\"Masukkan Nilai Anda: \"))\n",
        "if grade == 100:\n",
        " print(\"perfect\")\n",
        "if grade == 90:\n",
        " print(\"ok\")\n",
        "print(\"keep working hard!\")"
      ],
      "metadata": {
        "colab": {
          "base_uri": "https://localhost:8080/"
        },
        "id": "5nJRFSMYPN9M",
        "outputId": "c9c61ffc-6f09-4fd3-854c-6c68868c338a"
      },
      "execution_count": 4,
      "outputs": [
        {
          "output_type": "stream",
          "name": "stdout",
          "text": [
            "Masukkan Nilai Anda: 95\n",
            "keep working hard!\n"
          ]
        }
      ]
    },
    {
      "cell_type": "code",
      "source": [
        "# Kondisi if else adalah jika kondisi bernilai TRUE maka akan dieksekusi pada if,\n",
        "# tetapi jika bernilai FALSE maka akan dieksekusi kode pada else\n",
        "nilai = 8\n",
        "# Jika pernyataan pada if bernilai TRUE maka if akan dieksekusi,\n",
        "# tetapi jika FALSE kode pada else yang akan dieksekusi.\n",
        "if(nilai > 7):\n",
        " print(\"Selamat Anda Lulus\")\n",
        "else:\n",
        " print(\"Maaf Anda Tidak Lulus\")"
      ],
      "metadata": {
        "colab": {
          "base_uri": "https://localhost:8080/"
        },
        "id": "M0Wing-dPkz8",
        "outputId": "ce5d22f3-0801-4f71-e20e-236e1d512179"
      },
      "execution_count": 7,
      "outputs": [
        {
          "output_type": "stream",
          "name": "stdout",
          "text": [
            "Selamat Anda Lulus\n"
          ]
        }
      ]
    },
    {
      "cell_type": "code",
      "source": [
        "str_input = input('Enter your grade: ')\n",
        "grade = int(str_input)\n",
        "if grade == 100:\n",
        " print(\"perfect\")\n",
        "else:\n",
        " print(\"keep it up\")"
      ],
      "metadata": {
        "colab": {
          "base_uri": "https://localhost:8080/"
        },
        "id": "8Bq_LdpnQVtV",
        "outputId": "80e5e1e7-7753-401e-8a92-0d5650897bf7"
      },
      "execution_count": 8,
      "outputs": [
        {
          "output_type": "stream",
          "name": "stdout",
          "text": [
            "Enter your grade: 95\n",
            "keep it up\n"
          ]
        }
      ]
    },
    {
      "cell_type": "code",
      "source": [
        "Lapar = input(\"Apakah Asep lapar? \")\n",
        "if(\"lapar == ya\"):\n",
        " print(\"Asep makan\")\n",
        "else:\n",
        " print(\"Asep tidak makan\")"
      ],
      "metadata": {
        "colab": {
          "base_uri": "https://localhost:8080/"
        },
        "id": "mfdjLoMrQvdM",
        "outputId": "e1ff17e4-75b3-49c9-fa40-e54333a11de3"
      },
      "execution_count": 9,
      "outputs": [
        {
          "output_type": "stream",
          "name": "stdout",
          "text": [
            "Apakah Asep lapar? Tidak\n",
            "Asep makan\n"
          ]
        }
      ]
    },
    {
      "cell_type": "code",
      "source": [
        "#Contoh penggunaan kondisi elif\n",
        "hari_ini = input(\"Masukkan hari(gunakan huruf kecil): \")\n",
        "if(hari_ini == \"senin\"):\n",
        " print(\"Saya akan kuliah\")\n",
        "elif(hari_ini == \"selasa\"):\n",
        " print(\"Saya akan kuliah\")\n",
        "elif(hari_ini == \"rabu\"):\n",
        " print(\"Saya akan kuliah\")\n",
        "elif(hari_ini == \"kamis\"):\n",
        " print(\"Saya akan kuliah\")\n",
        "elif(hari_ini == \"jumat\"):\n",
        " print(\"Saya akan kuliah\")\n",
        "elif(hari_ini == \"sabtu\"):\n",
        " print(\"Saya akan kuliah\")\n",
        "elif(hari_ini == \"minggu\"):\n",
        " print(\"Saya akan libur\")"
      ],
      "metadata": {
        "colab": {
          "base_uri": "https://localhost:8080/"
        },
        "id": "xsseI8jMRKk8",
        "outputId": "8aa4e4b6-7415-4012-ab13-632f42ca0228"
      },
      "execution_count": 11,
      "outputs": [
        {
          "output_type": "stream",
          "name": "stdout",
          "text": [
            "Masukkan hari(gunakan huruf kecil): senin\n",
            "Saya akan kuliah\n"
          ]
        }
      ]
    },
    {
      "cell_type": "code",
      "source": [
        "str_input = input('Enter your grade: ')\n",
        "grade = int(str_input)\n",
        "if grade == 100:\n",
        " print(\"perfect\")\n",
        "elif grade >= 85:\n",
        " print(\"awesome\")\n",
        "elif grade >= 65:\n",
        " print(\"passed the exam\")\n",
        "else:\n",
        " print(\"below the passing grade\")"
      ],
      "metadata": {
        "colab": {
          "base_uri": "https://localhost:8080/"
        },
        "id": "BrJAV-PiRmQm",
        "outputId": "3e347db2-178a-4913-9a7a-f095c84f20df"
      },
      "execution_count": 12,
      "outputs": [
        {
          "output_type": "stream",
          "name": "stdout",
          "text": [
            "Enter your grade: 95\n",
            "awesome\n"
          ]
        }
      ]
    },
    {
      "cell_type": "code",
      "source": [
        "str_input = input('Enter your grade: ')\n",
        "grade = int(str_input)\n",
        "if grade == 100:\n",
        " print(\"perfect\")\n",
        "elif grade >= 85:\n",
        " print(\"awesome\")\n",
        "elif grade >= 65:\n",
        " print(\"passed the exam\")\n",
        " if grade <= 70:\n",
        "  print(\"but you need to improve it!\")\n",
        " else:\n",
        "  print(\"with ok grade\")\n",
        "else:\n",
        " print(\"below the passing grade\")"
      ],
      "metadata": {
        "colab": {
          "base_uri": "https://localhost:8080/"
        },
        "id": "T7eNWArYRyFp",
        "outputId": "53e3c268-31bf-4443-de4b-9a7ef6c42117"
      },
      "execution_count": 32,
      "outputs": [
        {
          "output_type": "stream",
          "name": "stdout",
          "text": [
            "Enter your grade: 92\n",
            "awesome\n"
          ]
        }
      ]
    },
    {
      "cell_type": "code",
      "source": [
        "grade = int(input('Enter your current grade: '))\n",
        "prev_grade = int(input('Enter your previous grade: '))\n",
        "if grade >= 90 and prev_grade >= 65:\n",
        " print(\"awesome\")\n",
        "if grade >= 90 and prev_grade < 65:\n",
        " print(\"awesome. you definitely working hard, right?\")\n",
        "elif grade >= 65:\n",
        " print(\"passed the exam\")\n",
        "else:\n",
        " print(\"below the passing grade\")\n",
        "if (grade >= 65 and not prev_grade >= 65) or (not grade >= 65 and\n",
        "prev_grade >= 65):\n",
        " print(\"at least you passed one exam. good job!\")"
      ],
      "metadata": {
        "colab": {
          "base_uri": "https://localhost:8080/"
        },
        "id": "Ai76Li-vV7bJ",
        "outputId": "53e4ce60-ffdf-4baa-8d1b-6a9b94241c2c"
      },
      "execution_count": 33,
      "outputs": [
        {
          "output_type": "stream",
          "name": "stdout",
          "text": [
            "Enter your current grade: 85\n",
            "Enter your previous grade: 95\n",
            "passed the exam\n"
          ]
        }
      ]
    },
    {
      "cell_type": "code",
      "source": [
        "#soal 1\n",
        "bilangan = int(input(\"masukkan sebuah bilangan :\"))\n",
        "if bilangan % 3 == 0 :\n",
        "  print(f\"bilangan habis dibagi tiga\")\n",
        "else:\n",
        "  print(f\"bilangan tidak habis dibagi tiga\")"
      ],
      "metadata": {
        "colab": {
          "base_uri": "https://localhost:8080/"
        },
        "id": "R_3yFKwhXg7N",
        "outputId": "eab44381-0966-4f07-bec3-8fe665a24d28"
      },
      "execution_count": 34,
      "outputs": [
        {
          "output_type": "stream",
          "name": "stdout",
          "text": [
            "masukkan sebuah bilangan :12\n",
            "bilangan habis dibagi tiga\n"
          ]
        }
      ]
    },
    {
      "cell_type": "code",
      "source": [
        "#SOAL 2\n",
        "nama = input(\"masukan nama: \")\n",
        "kelamin = input(\"masukan jenis kelamin(pria/wanita): \")\n",
        "\n",
        "if kelamin == \"pria\":\n",
        "  print(\"Halo bro\", nama)\n",
        "elif kelamin == \"wanita\":\n",
        "  print(\"halo sis\", nama)\n",
        "else:\n",
        "  print(\"tidak terdeteksi\")"
      ],
      "metadata": {
        "colab": {
          "base_uri": "https://localhost:8080/"
        },
        "id": "n-mYCsc8YNfw",
        "outputId": "17444108-f3d4-4150-dce4-c1b1ae971eb1"
      },
      "execution_count": 36,
      "outputs": [
        {
          "output_type": "stream",
          "name": "stdout",
          "text": [
            "masukan nama: irfan pratama ulayo\n",
            "masukan jenis kelamin(pria/wanita): pria\n",
            "Halo bro irfan pratama ulayo\n"
          ]
        }
      ]
    },
    {
      "cell_type": "code",
      "source": [
        "#soal 3\n",
        "usia = int(input(\"masukan usia\" ))\n",
        "\n",
        "if (usia <13):\n",
        "  print(\"anak-anak\")\n",
        "elif (usia >= 12 and usia <= 18):\n",
        "  print(\"remaja\")\n",
        "else:\n",
        "  print(\"dewasa\")"
      ],
      "metadata": {
        "colab": {
          "base_uri": "https://localhost:8080/"
        },
        "id": "oqJI6rwsYf32",
        "outputId": "a5dacc08-f27f-46a2-90ba-b69bd0374335"
      },
      "execution_count": 37,
      "outputs": [
        {
          "output_type": "stream",
          "name": "stdout",
          "text": [
            "masukan usia18\n",
            "remaja\n"
          ]
        }
      ]
    }
  ]
}