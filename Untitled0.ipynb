{
  "nbformat": 4,
  "nbformat_minor": 0,
  "metadata": {
    "colab": {
      "provenance": [],
      "authorship_tag": "ABX9TyMpftwHfo9fUcGbm48pz4xR",
      "include_colab_link": true
    },
    "kernelspec": {
      "name": "python3",
      "display_name": "Python 3"
    },
    "language_info": {
      "name": "python"
    }
  },
  "cells": [
    {
      "cell_type": "markdown",
      "metadata": {
        "id": "view-in-github",
        "colab_type": "text"
      },
      "source": [
        "<a href=\"https://colab.research.google.com/github/zikriramadhan1/ZIKRI-RAMADHAN/blob/main/Untitled0.ipynb\" target=\"_parent\"><img src=\"https://colab.research.google.com/assets/colab-badge.svg\" alt=\"Open In Colab\"/></a>"
      ]
    },
    {
      "cell_type": "code",
      "execution_count": 35,
      "metadata": {
        "colab": {
          "base_uri": "https://localhost:8080/"
        },
        "id": "L5BbZ0xqvonC",
        "outputId": "478b7988-ffac-4043-8781-570e4fb34b26"
      },
      "outputs": [
        {
          "output_type": "stream",
          "name": "stdout",
          "text": [
            "4\n"
          ]
        }
      ],
      "source": [
        "#soal 1\n",
        "NumbInt = [9, 8, 7, 6, 5, 4, 3, 2, 1, 0]\n",
        "print(NumbInt[5])"
      ]
    },
    {
      "cell_type": "code",
      "source": [
        "#contoh 2\n",
        "NumbInt = [0 for i in range(10)]\n",
        "print(NumbInt)"
      ],
      "metadata": {
        "colab": {
          "base_uri": "https://localhost:8080/"
        },
        "id": "ih-Pih9NwpjS",
        "outputId": "24d00d48-3e13-44df-b177-7bc1f619d6c0"
      },
      "execution_count": 36,
      "outputs": [
        {
          "output_type": "stream",
          "name": "stdout",
          "text": [
            "[0, 0, 0, 0, 0, 0, 0, 0, 0, 0]\n"
          ]
        }
      ]
    },
    {
      "cell_type": "code",
      "source": [
        "#contoh 3\n",
        "StarChar = ['*' for i in range(10)]\n",
        "print(StarChar)"
      ],
      "metadata": {
        "colab": {
          "base_uri": "https://localhost:8080/"
        },
        "id": "G-1v23eA0oj9",
        "outputId": "ed5994e2-b55b-445a-9d18-6966dae965b4"
      },
      "execution_count": 37,
      "outputs": [
        {
          "output_type": "stream",
          "name": "stdout",
          "text": [
            "['*', '*', '*', '*', '*', '*', '*', '*', '*', '*']\n"
          ]
        }
      ]
    },
    {
      "cell_type": "code",
      "source": [
        "#contoh 4\n",
        "NumbInt = [1, 2, 4, -1, 100, 2, 0, -1, 3, 9]\n",
        "print(NumbInt[3])"
      ],
      "metadata": {
        "colab": {
          "base_uri": "https://localhost:8080/"
        },
        "id": "qVdTpUQ2yu1q",
        "outputId": "bea889fa-9c66-4f36-c16d-1a6ea51315d1"
      },
      "execution_count": 38,
      "outputs": [
        {
          "output_type": "stream",
          "name": "stdout",
          "text": [
            "-1\n"
          ]
        }
      ]
    },
    {
      "cell_type": "code",
      "source": [
        "#contoh 5\n",
        "# Program IsiArray\n",
        "# Mengisi array dengan nilai dari pengguna\n",
        "\n",
        "# KAMUS\n",
        "# TabInt : array [0..9] of int\n",
        "# i: int\n",
        "\n",
        "# ALGORITMA\n",
        "# Deklarasi array NumbInt dan mengisinya dengan nilai default 0\n",
        "NumbInt = [0 for i in range(10)]\n",
        "# Mengisi array dari pembacaan nilai dari keyboard\n",
        "for i in range(0,10): NumbInt[i] = int(input())"
      ],
      "metadata": {
        "colab": {
          "base_uri": "https://localhost:8080/"
        },
        "id": "WMfnVlu-yu4A",
        "outputId": "a55d3de8-dcf1-48f5-f7e3-179dab24b472"
      },
      "execution_count": 41,
      "outputs": [
        {
          "name": "stdout",
          "output_type": "stream",
          "text": [
            "6\n",
            "5\n",
            "3\n",
            "3\n",
            "3\n",
            "2\n",
            "1\n",
            "2\n",
            "3\n",
            "4\n"
          ]
        }
      ]
    },
    {
      "cell_type": "code",
      "source": [
        "#contoh 6\n",
        "# Program IsiArray\n",
        "# Mengisi array dengan nilai dari pengguna\n",
        "\n",
        "# KAMUS\n",
        "# TabInt : array [0..9] of int\n",
        "# I : int\n",
        "\n",
        "# ALGORITMA\n",
        "# Deklarasi array NumbInt dan mengisinya dengan nilai default 0\n",
        "NumbInt = [0 for i in range(10)]\n",
        "\n",
        "# Mengisi array dari pembacaan nilai dari keyboard\n",
        "for i in range(0,10):\n",
        "    NumbInt[i] = int(input())\n",
        "\n",
        "# Mencetak isi array\n",
        "for i in range(0,10):\n",
        "    print(NumbInt[i])"
      ],
      "metadata": {
        "colab": {
          "base_uri": "https://localhost:8080/"
        },
        "id": "5HdA3N1Ayu8a",
        "outputId": "da081218-8589-48c7-f565-7e5ce1faeae0"
      },
      "execution_count": 59,
      "outputs": [
        {
          "output_type": "stream",
          "name": "stdout",
          "text": [
            "7\n",
            "5\n",
            "4\n",
            "5\n",
            "6\n",
            "7\n",
            "6\n",
            "5\n",
            "4\n",
            "3\n",
            "7\n",
            "5\n",
            "4\n",
            "5\n",
            "6\n",
            "7\n",
            "6\n",
            "5\n",
            "4\n",
            "3\n"
          ]
        }
      ]
    },
    {
      "cell_type": "code",
      "source": [
        "#contoh 7\n",
        "# Program AverageArray\n",
        "# Menghitung nilai rata-rata elemen array\n",
        "\n",
        "# KAMUS\n",
        "# TabInt : array [0..9] of int\n",
        "# i : int\n",
        "# sum : int\n",
        "\n",
        "# ALGORITMA\n",
        "# Deklarasi array TabInt dan mengisinya dengan nilai default 0\n",
        "NumbInt = [0 for i in range(10)]\n",
        "\n",
        "# Mengisi array dari pembacaan nilai dari keyboard\n",
        "for i in range(0,10):\n",
        "     NumbInt[i] = int(input())\n",
        "\n",
        "# Menjumlahkan elemen array\n",
        "sum = 0\n",
        "for i in range(0,10):\n",
        "     sum = sum + NumbInt[i]\n",
        "\n",
        "# Menghitung nilai rata-rata dan menampilkannya\n",
        "rata = sum/10\n",
        "print (\"Nilai rata-rata = \" + str(rata))"
      ],
      "metadata": {
        "colab": {
          "base_uri": "https://localhost:8080/"
        },
        "id": "m-HKhGlw37ay",
        "outputId": "0a350f71-1273-4421-d1cc-3d3d60979189"
      },
      "execution_count": 61,
      "outputs": [
        {
          "output_type": "stream",
          "name": "stdout",
          "text": [
            "8\n",
            "7\n",
            "9\n",
            "5\n",
            "5\n",
            "5\n",
            "9\n",
            "8\n",
            "5\n",
            "5\n",
            "Nilai rata-rata = 6.6\n"
          ]
        }
      ]
    },
    {
      "cell_type": "code",
      "source": [
        "# Program: Perkalian Array dan Mencari Nilai Ekstrem\n",
        "# 1. Inisialisasi array S\n",
        "S = [4, 1, -1, 10, 0, 12]\n",
        "\n",
        "# 2. Input nilai D dari pengguna\n",
        "D = int(input(\"Masukkan nilai D (pengali): \"))\n",
        "\n",
        "# 3. Kalikan setiap elemen S dengan D\n",
        "S = [elemen * D for elemen in S]\n",
        "\n",
        "# 4. Tampilkan hasil array setelah dikalikan\n",
        "print(\"Array S setelah dikalikan dengan D:\")\n",
        "print(S)\n",
        "\n",
        "# 5. Cari nilai maksimum dan minimum\n",
        "maks = max(S)\n",
        "minim = min(S)\n",
        "\n",
        "# 6. Tampilkan nilai maksimum dan minimum\n",
        "print(\"Nilai terbesar dalam array:\", maks)\n",
        "print(\"Nilai terkecil dalam array:\", minim)"
      ],
      "metadata": {
        "colab": {
          "base_uri": "https://localhost:8080/"
        },
        "id": "NpX7r10T66Lw",
        "outputId": "bd194a94-c5d1-4ef0-a666-f5a67d93a947"
      },
      "execution_count": 67,
      "outputs": [
        {
          "output_type": "stream",
          "name": "stdout",
          "text": [
            "Masukkan nilai D (pengali): 9\n",
            "Array S setelah dikalikan dengan D:\n",
            "[36, 9, -9, 90, 0, 108]\n",
            "Nilai terbesar dalam array: 108\n",
            "Nilai terkecil dalam array: -9\n"
          ]
        }
      ]
    },
    {
      "cell_type": "code",
      "source": [
        "MatM = [[1, 2, 3, 4,  5],\n",
        "        [6, 7, 8, 9, 10],\n",
        "        [11, 12, 13, 14, 15],\n",
        "        [16, 17, 18, 19, 20 ],\n",
        "        [21, 22, 23, 24, 25]]\n",
        "\n",
        "for j in range (len(MatM)):\n",
        "#j untuk kolom # untuk kolom di dalam jangka sepanjang matrix M\n",
        "  for i in range (len(MatM)):\n",
        "# i untuk baris # # untuk baris di dalam jangka sepanjang matrix M\n",
        "    print(MatM[j][i], end= \" \")\n",
        "  print()"
      ],
      "metadata": {
        "colab": {
          "base_uri": "https://localhost:8080/"
        },
        "id": "n4Oxs0lR_gPO",
        "outputId": "0e100757-6a13-49f1-aefa-bc5cacd8e3b2"
      },
      "execution_count": 95,
      "outputs": [
        {
          "output_type": "stream",
          "name": "stdout",
          "text": [
            "1 2 3 4 5 \n",
            "6 7 8 9 10 \n",
            "11 12 13 14 15 \n",
            "16 17 18 19 20 \n",
            "21 22 23 24 25 \n"
          ]
        }
      ]
    },
    {
      "cell_type": "code",
      "source": [
        "for j in range (5):\n",
        "  #j untuk kolom\n",
        "  # untuk kolom di dalam jangka sepanjang matrix M\n",
        "  for i in range (3):\n",
        "  # i untuk baris # # untuk baris di dalam jangka sepanjang matrix M\n",
        "    print(MatM[j][i], end= \" \")\n",
        "  print()"
      ],
      "metadata": {
        "colab": {
          "base_uri": "https://localhost:8080/"
        },
        "id": "E_0v6bMtAAnG",
        "outputId": "98396359-f9a3-4527-d52b-ab89f2688300"
      },
      "execution_count": 97,
      "outputs": [
        {
          "output_type": "stream",
          "name": "stdout",
          "text": [
            "1 2 3 \n",
            "6 7 8 \n",
            "11 12 13 \n",
            "16 17 18 \n",
            "21 22 23 \n"
          ]
        }
      ]
    },
    {
      "cell_type": "code",
      "source": [
        "# Program IsiMatriks;\n",
        "# Isi matriks dan menulis ke layar\n",
        "# KAMUS\n",
        "# M : matriks of integer\n",
        "# NBrs, NKol : int (ukuran brs & kol)\n",
        "# i, j : int (indeks)\n",
        "# ALGORITMA\n",
        "# deklarasi matriks\n",
        "NBrs = 5; NKol = 5;\n",
        "M = [[0 for j in range(NKol)] for i in range(NBrs)]\n",
        "# Mengisi matriks ukuran NBrsxNKol\n",
        "for i in range (NBrs):\n",
        " for j in range (NKol):\n",
        "  M[i][j] = i * j\n",
        "# Menuliskan isi matriks ke layar\n",
        "for i in range (NBrs):\n",
        " for j in range (NKol):\n",
        "  print(str(M[i][j])+\" \", end= \" \")\n",
        "print() # print hanya enter"
      ],
      "metadata": {
        "colab": {
          "base_uri": "https://localhost:8080/"
        },
        "id": "1KnXln5BAjPh",
        "outputId": "31eb225e-2136-4a34-e83d-8591b5747f2b"
      },
      "execution_count": 102,
      "outputs": [
        {
          "output_type": "stream",
          "name": "stdout",
          "text": [
            "0  0  0  0  0  0  1  2  3  4  0  2  4  6  8  0  3  6  9  12  0  4  8  12  16  \n"
          ]
        }
      ]
    },
    {
      "cell_type": "code",
      "source": [
        "# Program BacaMatriks;\n",
        "# Baca isi matriks dari pengguna dan menulis ke layar\n",
        "# KAMUS\n",
        "# M : matriks of integer\n",
        "# NBrs, NKol : int (ukuran brs & kol)\n",
        "# i, j : int (indeks)\n",
        "# ALGORITMA\n",
        "# deklarasi matriks\n",
        "NBrs = 5; NKol = 5;\n",
        "M = [[0 for j in range(NKol)] for i in range(NBrs)]\n",
        "# Mengisi matriks ukuran NBrsxNKol\n",
        "for i in range (NBrs):\n",
        "  for j in range (NKol):\n",
        "   M[i][j] = int(input(\"Elemen ke-[\"+str(i)+\",\"+str(j)+\"] = \"))\n",
        "# Menuliskan isi matriks ke layar\n",
        "for i in range (NBrs):\n",
        " for j in range (NKol):7\n",
        "print(str(M[i][j])+\" \", end='') # print tanpa enter\n",
        "print() # print hanya enter"
      ],
      "metadata": {
        "colab": {
          "base_uri": "https://localhost:8080/"
        },
        "id": "L6rvBlhDAohP",
        "outputId": "454ad0cb-1fb5-49ad-edc5-326c2c89590c"
      },
      "execution_count": 103,
      "outputs": [
        {
          "output_type": "stream",
          "name": "stdout",
          "text": [
            "Elemen ke-[0,0] = 9\n",
            "Elemen ke-[0,1] = 8\n",
            "Elemen ke-[0,2] = 6\n",
            "Elemen ke-[0,3] = 5\n",
            "Elemen ke-[0,4] = 4\n",
            "Elemen ke-[1,0] = 3\n",
            "Elemen ke-[1,1] = 8\n",
            "Elemen ke-[1,2] = 0\n",
            "Elemen ke-[1,3] = 5\n",
            "Elemen ke-[1,4] = 6\n",
            "Elemen ke-[2,0] = 7\n",
            "Elemen ke-[2,1] = 8\n",
            "Elemen ke-[2,2] = 5\n",
            "Elemen ke-[2,3] = 4\n",
            "Elemen ke-[2,4] = 9\n",
            "Elemen ke-[3,0] = 4\n",
            "Elemen ke-[3,1] = 8\n",
            "Elemen ke-[3,2] = 9\n",
            "Elemen ke-[3,3] = 8\n",
            "Elemen ke-[3,4] = 5\n",
            "Elemen ke-[4,0] = 3\n",
            "Elemen ke-[4,1] = 2\n",
            "Elemen ke-[4,2] = 2\n",
            "Elemen ke-[4,3] = 3\n",
            "Elemen ke-[4,4] = 4\n",
            "4 \n"
          ]
        }
      ]
    },
    {
      "cell_type": "code",
      "source": [
        "# Program untuk membaca matriks dan mengalikan setiap elemennya dengan X\n",
        "# Membaca ukuran matriks\n",
        "baris = int(input(\"Masukkan jumlah baris: \"))\n",
        "kolom = int(input(\"Masukkan jumlah kolom: \"))\n",
        "# Membaca elemen-elemen matriks\n",
        "print(\"Masukkan elemen-elemen matriks:\")\n",
        "matriks = []\n",
        "for i in range(baris):\n",
        " baris_matriks = []\n",
        " for j in range(kolom):\n",
        "  elemen = int(input(f\"Elemen [{i}][{j}]: \"))\n",
        " baris_matriks.append(elemen)\n",
        " matriks.append(baris_matriks)\n",
        "# Membaca nilai X\n",
        "X = int(input(\"Masukkan nilai X untuk mengalikan semua elemen matriks: \"))\n",
        "# Mengalikan setiap elemen matriks dengan X\n",
        "hasil = []\n",
        "for i in range(baris):\n",
        " hasil_baris = []\n",
        " for j in range(kolom):\n",
        "  hasil_baris.append(matriks[i][j] * X)\n",
        "  hasil.append(hasil_baris)\n",
        "print(\"\\nMatriks setelah dikalikan dengan\", X, \":\")\n",
        "for baris in hasil:\n",
        " print(baris)"
      ],
      "metadata": {
        "colab": {
          "base_uri": "https://localhost:8080/",
          "height": 1000
        },
        "id": "3PX_GDGQA1M1",
        "outputId": "fea8b7a0-b920-492a-9ad9-12ce7b9689c6"
      },
      "execution_count": 104,
      "outputs": [
        {
          "name": "stdout",
          "output_type": "stream",
          "text": [
            "Masukkan jumlah baris: 7\n",
            "Masukkan jumlah kolom: 7\n",
            "Masukkan elemen-elemen matriks:\n",
            "Elemen [0][0]: 6\n",
            "Elemen [0][1]: 5\n",
            "Elemen [0][2]: 4\n",
            "Elemen [0][3]: 3\n",
            "Elemen [0][4]: 2\n",
            "Elemen [0][5]: 2\n",
            "Elemen [0][6]: 3\n",
            "Elemen [1][0]: 4\n",
            "Elemen [1][1]: 5\n",
            "Elemen [1][2]: 6\n",
            "Elemen [1][3]: 7\n",
            "Elemen [1][4]: 5\n",
            "Elemen [1][5]: 4\n",
            "Elemen [1][6]: 3\n",
            "Elemen [2][0]: 2\n",
            "Elemen [2][1]: 3\n",
            "Elemen [2][2]: 3\n",
            "Elemen [2][3]: 4\n",
            "Elemen [2][4]: 5\n",
            "Elemen [2][5]: 4\n",
            "Elemen [2][6]: 3\n",
            "Elemen [3][0]: 2\n",
            "Elemen [3][1]: 5\n",
            "Elemen [3][2]: 4\n",
            "Elemen [3][3]: 3\n",
            "Elemen [3][4]: 3\n",
            "Elemen [3][5]: 2\n",
            "Elemen [3][6]: 2\n",
            "Elemen [4][0]: 2\n",
            "Elemen [4][1]: 2\n",
            "Elemen [4][2]: 2\n",
            "Elemen [4][3]: 2\n",
            "Elemen [4][4]: 2\n",
            "Elemen [4][5]: 3\n",
            "Elemen [4][6]: 4\n",
            "Elemen [5][0]: 5\n",
            "Elemen [5][1]: 6\n",
            "Elemen [5][2]: 6\n",
            "Elemen [5][3]: 4\n",
            "Elemen [5][4]: 3\n",
            "Elemen [5][5]: 2\n",
            "Elemen [5][6]: 1\n",
            "Elemen [6][0]: 2\n",
            "Elemen [6][1]: 3\n",
            "Elemen [6][2]: 4\n",
            "Elemen [6][3]: 5\n",
            "Elemen [6][4]: 6\n",
            "Elemen [6][5]: 4\n",
            "Elemen [6][6]: 2\n",
            "Masukkan nilai X untuk mengalikan semua elemen matriks: 1\n"
          ]
        },
        {
          "output_type": "error",
          "ename": "IndexError",
          "evalue": "list index out of range",
          "traceback": [
            "\u001b[0;31m---------------------------------------------------------------------------\u001b[0m",
            "\u001b[0;31mIndexError\u001b[0m                                Traceback (most recent call last)",
            "\u001b[0;32m<ipython-input-104-78720566a6bc>\u001b[0m in \u001b[0;36m<cell line: 0>\u001b[0;34m()\u001b[0m\n\u001b[1;32m     19\u001b[0m  \u001b[0mhasil_baris\u001b[0m \u001b[0;34m=\u001b[0m \u001b[0;34m[\u001b[0m\u001b[0;34m]\u001b[0m\u001b[0;34m\u001b[0m\u001b[0;34m\u001b[0m\u001b[0m\n\u001b[1;32m     20\u001b[0m  \u001b[0;32mfor\u001b[0m \u001b[0mj\u001b[0m \u001b[0;32min\u001b[0m \u001b[0mrange\u001b[0m\u001b[0;34m(\u001b[0m\u001b[0mkolom\u001b[0m\u001b[0;34m)\u001b[0m\u001b[0;34m:\u001b[0m\u001b[0;34m\u001b[0m\u001b[0;34m\u001b[0m\u001b[0m\n\u001b[0;32m---> 21\u001b[0;31m   \u001b[0mhasil_baris\u001b[0m\u001b[0;34m.\u001b[0m\u001b[0mappend\u001b[0m\u001b[0;34m(\u001b[0m\u001b[0mmatriks\u001b[0m\u001b[0;34m[\u001b[0m\u001b[0mi\u001b[0m\u001b[0;34m]\u001b[0m\u001b[0;34m[\u001b[0m\u001b[0mj\u001b[0m\u001b[0;34m]\u001b[0m \u001b[0;34m*\u001b[0m \u001b[0mX\u001b[0m\u001b[0;34m)\u001b[0m\u001b[0;34m\u001b[0m\u001b[0;34m\u001b[0m\u001b[0m\n\u001b[0m\u001b[1;32m     22\u001b[0m   \u001b[0mhasil\u001b[0m\u001b[0;34m.\u001b[0m\u001b[0mappend\u001b[0m\u001b[0;34m(\u001b[0m\u001b[0mhasil_baris\u001b[0m\u001b[0;34m)\u001b[0m\u001b[0;34m\u001b[0m\u001b[0;34m\u001b[0m\u001b[0m\n\u001b[1;32m     23\u001b[0m \u001b[0mprint\u001b[0m\u001b[0;34m(\u001b[0m\u001b[0;34m\"\\nMatriks setelah dikalikan dengan\"\u001b[0m\u001b[0;34m,\u001b[0m \u001b[0mX\u001b[0m\u001b[0;34m,\u001b[0m \u001b[0;34m\":\"\u001b[0m\u001b[0;34m)\u001b[0m\u001b[0;34m\u001b[0m\u001b[0;34m\u001b[0m\u001b[0m\n",
            "\u001b[0;31mIndexError\u001b[0m: list index out of range"
          ]
        }
      ]
    },
    {
      "cell_type": "code",
      "source": [
        "# Program untuk membuat transpose dari sebuah matriks\n",
        "# Input ukuran matriks\n",
        "baris = int(input(\"Masukkan jumlah baris matriks M: \"))\n",
        "kolom = int(input(\"Masukkan jumlah kolom matriks M: \"))\n",
        "# Input elemen-elemen matriks M\n",
        "print(\"Masukkan elemen-elemen matriks M:\")\n",
        "M = []\n",
        "for i in range(baris):\n",
        " baris_matriks = []\n",
        " for j in range(kolom):\n",
        "  elemen = int(input(f\"Elemen M[{i}][{j}]: \"))\n",
        " baris_matriks.append(elemen)\n",
        " M.append(baris_matriks)\n",
        "# Membuat transpose dari M (MTranspose)\n",
        "MTranspose = []\n",
        "for i in range(kolom): # baris MTranspose = kolom M\n",
        " baris_transpose = []\n",
        " for j in range(baris): # kolom MTranspose = baris M  baris_transpose.append(M[j][i])\n",
        " # MTranspose[i][j] = M[j][i]MTranspose.append(baris_transpose)\n",
        "# Output hasil transpose\n",
        "  print(\"\\nMatriks Transpose (MTranspose):\")\n",
        "for baris in MTranspose:\n",
        " print(baris)\n"
      ],
      "metadata": {
        "colab": {
          "base_uri": "https://localhost:8080/"
        },
        "id": "z9mk8lPfBRVV",
        "outputId": "68f047c4-9a82-4b07-ec7c-a9c1aeec3f84"
      },
      "execution_count": 108,
      "outputs": [
        {
          "output_type": "stream",
          "name": "stdout",
          "text": [
            "Masukkan jumlah baris matriks M: 6\n",
            "Masukkan jumlah kolom matriks M: 6\n",
            "Masukkan elemen-elemen matriks M:\n",
            "Elemen M[0][0]: 5\n",
            "Elemen M[0][1]: 4\n",
            "Elemen M[0][2]: 3\n",
            "Elemen M[0][3]: 2\n",
            "Elemen M[0][4]: 1\n",
            "Elemen M[0][5]: 2\n",
            "Elemen M[1][0]: 3\n",
            "Elemen M[1][1]: 4\n",
            "Elemen M[1][2]: 5\n",
            "Elemen M[1][3]: 4\n",
            "Elemen M[1][4]: 3\n",
            "Elemen M[1][5]: 2\n",
            "Elemen M[2][0]: 3\n",
            "Elemen M[2][1]: 2\n",
            "Elemen M[2][2]: 3\n",
            "Elemen M[2][3]: 4\n",
            "Elemen M[2][4]: 5\n",
            "Elemen M[2][5]: 6\n",
            "Elemen M[3][0]: 5\n",
            "Elemen M[3][1]: 4\n",
            "Elemen M[3][2]: 3\n",
            "Elemen M[3][3]: 2\n",
            "Elemen M[3][4]: 2\n",
            "Elemen M[3][5]: 2\n",
            "Elemen M[4][0]: 2\n",
            "Elemen M[4][1]: 2\n",
            "Elemen M[4][2]: 2\n",
            "Elemen M[4][3]: 2\n",
            "Elemen M[4][4]: 2\n",
            "Elemen M[4][5]: 2\n",
            "Elemen M[5][0]: 2\n",
            "Elemen M[5][1]: 2\n",
            "Elemen M[5][2]: 2\n",
            "Elemen M[5][3]: 2\n",
            "Elemen M[5][4]: 2\n",
            "Elemen M[5][5]: 2\n",
            "\n",
            "Matriks Transpose (MTranspose):\n",
            "\n",
            "Matriks Transpose (MTranspose):\n",
            "\n",
            "Matriks Transpose (MTranspose):\n",
            "\n",
            "Matriks Transpose (MTranspose):\n",
            "\n",
            "Matriks Transpose (MTranspose):\n",
            "\n",
            "Matriks Transpose (MTranspose):\n",
            "\n",
            "Matriks Transpose (MTranspose):\n",
            "\n",
            "Matriks Transpose (MTranspose):\n",
            "\n",
            "Matriks Transpose (MTranspose):\n",
            "\n",
            "Matriks Transpose (MTranspose):\n",
            "\n",
            "Matriks Transpose (MTranspose):\n",
            "\n",
            "Matriks Transpose (MTranspose):\n",
            "\n",
            "Matriks Transpose (MTranspose):\n",
            "\n",
            "Matriks Transpose (MTranspose):\n",
            "\n",
            "Matriks Transpose (MTranspose):\n",
            "\n",
            "Matriks Transpose (MTranspose):\n",
            "\n",
            "Matriks Transpose (MTranspose):\n",
            "\n",
            "Matriks Transpose (MTranspose):\n",
            "\n",
            "Matriks Transpose (MTranspose):\n",
            "\n",
            "Matriks Transpose (MTranspose):\n",
            "\n",
            "Matriks Transpose (MTranspose):\n",
            "\n",
            "Matriks Transpose (MTranspose):\n",
            "\n",
            "Matriks Transpose (MTranspose):\n",
            "\n",
            "Matriks Transpose (MTranspose):\n",
            "\n",
            "Matriks Transpose (MTranspose):\n",
            "\n",
            "Matriks Transpose (MTranspose):\n",
            "\n",
            "Matriks Transpose (MTranspose):\n",
            "\n",
            "Matriks Transpose (MTranspose):\n",
            "\n",
            "Matriks Transpose (MTranspose):\n",
            "\n",
            "Matriks Transpose (MTranspose):\n",
            "\n",
            "Matriks Transpose (MTranspose):\n",
            "\n",
            "Matriks Transpose (MTranspose):\n",
            "\n",
            "Matriks Transpose (MTranspose):\n",
            "\n",
            "Matriks Transpose (MTranspose):\n",
            "\n",
            "Matriks Transpose (MTranspose):\n",
            "\n",
            "Matriks Transpose (MTranspose):\n"
          ]
        }
      ]
    }
  ]
}