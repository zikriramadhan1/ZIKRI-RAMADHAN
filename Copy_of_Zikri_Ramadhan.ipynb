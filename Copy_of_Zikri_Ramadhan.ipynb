{
  "nbformat": 4,
  "nbformat_minor": 0,
  "metadata": {
    "colab": {
      "provenance": [],
      "authorship_tag": "ABX9TyOlYhVpTDsuDW2WE+16ohgA",
      "include_colab_link": true
    },
    "kernelspec": {
      "name": "python3",
      "display_name": "Python 3"
    },
    "language_info": {
      "name": "python"
    }
  },
  "cells": [
    {
      "cell_type": "markdown",
      "metadata": {
        "id": "view-in-github",
        "colab_type": "text"
      },
      "source": [
        "<a href=\"https://colab.research.google.com/github/zikriramadhan1/ZIKRI-RAMADHAN/blob/main/Copy_of_Zikri_Ramadhan.ipynb\" target=\"_parent\"><img src=\"https://colab.research.google.com/assets/colab-badge.svg\" alt=\"Open In Colab\"/></a>"
      ]
    },
    {
      "cell_type": "code",
      "execution_count": null,
      "metadata": {
        "colab": {
          "base_uri": "https://localhost:8080/"
        },
        "id": "Iqs074kXJaHJ",
        "outputId": "2791bfbf-9331-4f87-b3ea-7661d1bed1bc"
      },
      "outputs": [
        {
          "output_type": "stream",
          "name": "stdout",
          "text": [
            "Hello, World\n"
          ]
        }
      ],
      "source": [
        "#Program HelloWorld\n",
        "#Mencetak Hello, World! ke layar\n",
        "\n",
        "#KAMUS\n",
        "#belum diperlukan\n",
        "\n",
        "#ALGORITMA\n",
        "print('Hello, World')"
      ]
    }
  ]
}